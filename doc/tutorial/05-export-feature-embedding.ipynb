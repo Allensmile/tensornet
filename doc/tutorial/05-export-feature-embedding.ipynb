{
 "cells": [
  {
   "cell_type": "markdown",
   "metadata": {},
   "source": [
    "# Export feature embedding file\n",
    "在分布式训练过程中，特征的embedding数据会以二进制的格式序列化到hdfs，在online serving时需要反序列化，后续我们会支持训练过程中直接导出文本格式的embedding数据，现在提供一个工具，将二进制数据反序列化为文本数据。"
   ]
  },
  {
   "cell_type": "markdown",
   "metadata": {},
   "source": [
    "### 1. 二进制格式转文本格式\n",
    "- 编译转换工具```emb_converter```\n",
    "\n",
    "  在```tensornet```目录下编译```emb_converter```"
   ]
  },
  {
   "cell_type": "code",
   "execution_count": 34,
   "metadata": {},
   "outputs": [
    {
     "name": "stdout",
     "output_type": "stream",
     "text": [
      "\u001b[32mLoading:\u001b[0m \n",
      "\u001b[1A\u001b[K\u001b[32mLoading:\u001b[0m 0 packages loaded\n",
      "\u001b[1A\u001b[K\u001b[32mAnalyzing:\u001b[0m target //core:emb_converter (1 packages loaded, 0 targets configure\\\n",
      "d)\n",
      "\u001b[1A\u001b[K\u001b[35mWARNING: \u001b[0m/da1/s/yaolei/.cache/bazel/_bazel_search/11b8c922fe66946d284e60eb69453ad3/external/org_tensorflow/tensorflow/core/BUILD:1824:1: in linkstatic attribute of cc_library rule @org_tensorflow//tensorflow/core:lib_internal: setting 'linkstatic=1' is recommended if there are no object files. Since this rule was created by the macro 'cc_library', the error might have been caused by the macro implementation\n",
      "\u001b[32mAnalyzing:\u001b[0m target //core:emb_converter (1 packages loaded, 4 targets configure\\\n",
      "d)\n",
      "\u001b[1A\u001b[K\u001b[32mINFO: \u001b[0mAnalyzed target //core:emb_converter (1 packages loaded, 4 targets configured).\n",
      "\n",
      "\u001b[1A\u001b[K\u001b[32mINFO: \u001b[0mFound 1 target...\n",
      "\n",
      "\u001b[1A\u001b[K\u001b[32m[0 / 3]\u001b[0m [Prepa] BazelWorkspaceStatusAction stable-status.txt\n",
      "\u001b[1A\u001b[K\u001b[32m[4 / 7]\u001b[0m 2 actions running\n",
      "    Compiling core/utility/file_io.cc; 0s processwrapper-sandbox\n",
      "    Compiling core/tools/emb_converter.cc; 0s processwrapper-sandbox\n",
      "\u001b[1A\u001b[K\u001b[32m[4 / 7]\u001b[0m 2 actions running\n",
      "    Compiling core/utility/file_io.cc; 1s processwrapper-sandbox\n",
      "    Compiling core/tools/emb_converter.cc; 1s processwrapper-sandbox\n",
      "\u001b[1A\u001b[K\u001b[32m[4 / 7]\u001b[0m 2 actions running\n",
      "    Compiling core/utility/file_io.cc; 2s processwrapper-sandbox\n",
      "    Compiling core/tools/emb_converter.cc; 2s processwrapper-sandbox\n",
      "\u001b[1A\u001b[K\u001b[32m[5 / 7]\u001b[0m Compiling core/tools/emb_converter.cc; 2s processwrapper-sandbox\n",
      "\u001b[1A\u001b[K\u001b[32m[5 / 7]\u001b[0m Compiling core/tools/emb_converter.cc; 3s processwrapper-sandbox\n",
      "\u001b[1A\u001b[K\u001b[32m[6 / 7]\u001b[0m [Prepa] Linking core/emb_converter\n",
      "\u001b[1A\u001b[K\u001b[32m[6 / 7]\u001b[0m Linking core/emb_converter; 0s processwrapper-sandbox\n",
      "\u001b[1A\u001b[KTarget //core:emb_converter up-to-date:\n",
      "\u001b[32m[7 / 7]\u001b[0m checking cached actions\n",
      "\u001b[1A\u001b[K  bazel-bin/core/emb_converter\n",
      "\u001b[32m[7 / 7]\u001b[0m checking cached actions\n",
      "\u001b[1A\u001b[K\u001b[32mINFO: \u001b[0mElapsed time: 6.075s, Critical Path: 5.86s\n",
      "\u001b[32m[7 / 7]\u001b[0m checking cached actions\n",
      "\u001b[1A\u001b[K\u001b[32mINFO: \u001b[0m3 processes: 3 processwrapper-sandbox.\n",
      "\u001b[32m[7 / 7]\u001b[0m checking cached actions\n",
      "\u001b[1A\u001b[K\u001b[32mINFO:\u001b[0m Build completed successfully, 5 total actions\n",
      "\u001b[1A\u001b[K\u001b[32mINFO:\u001b[0m Build completed successfully, 5 total actions\n",
      "\u001b[0m"
     ]
    }
   ],
   "source": [
    "!cd /da1/s/yaolei/tensornet && ./bazel build -c opt //core:emb_converter"
   ]
  },
  {
   "cell_type": "markdown",
   "metadata": {},
   "source": [
    "- 执行emb_converter"
   ]
  },
  {
   "cell_type": "code",
   "execution_count": 24,
   "metadata": {},
   "outputs": [
    {
     "name": "stdout",
     "output_type": "stream",
     "text": [
      "2020-08-26 14:38:30.988784: I core/tools/emb_converter.cc:82] file [/tmp/model/2020-05-11/sparse_table//0/rank_0/sparse_block_0] processed.\r\n",
      "2020-08-26 14:38:30.988914: I core/tools/emb_converter.cc:82] file [/tmp/model/2020-05-11/sparse_table//0/rank_0/sparse_block_1] processed.\r\n",
      "2020-08-26 14:38:30.988965: I core/tools/emb_converter.cc:82] file [/tmp/model/2020-05-11/sparse_table//0/rank_0/sparse_block_2] processed.\r\n",
      "2020-08-26 14:38:30.989013: I core/tools/emb_converter.cc:82] file [/tmp/model/2020-05-11/sparse_table//0/rank_0/sparse_block_3] processed.\r\n",
      "2020-08-26 14:38:30.989059: I core/tools/emb_converter.cc:82] file [/tmp/model/2020-05-11/sparse_table//0/rank_0/sparse_block_4] processed.\r\n",
      "2020-08-26 14:38:30.989114: I core/tools/emb_converter.cc:82] file [/tmp/model/2020-05-11/sparse_table//0/rank_0/sparse_block_5] processed.\r\n",
      "2020-08-26 14:38:30.989160: I core/tools/emb_converter.cc:82] file [/tmp/model/2020-05-11/sparse_table//0/rank_0/sparse_block_6] processed.\r\n",
      "2020-08-26 14:38:30.989208: I core/tools/emb_converter.cc:82] file [/tmp/model/2020-05-11/sparse_table//0/rank_0/sparse_block_7] processed.\r\n",
      "2020-08-26 14:38:30.989337: I core/tools/emb_converter.cc:82] file [/tmp/model/2020-05-11/sparse_table//1/rank_0/sparse_block_0] processed.\r\n",
      "2020-08-26 14:38:30.989485: I core/tools/emb_converter.cc:82] file [/tmp/model/2020-05-11/sparse_table//1/rank_0/sparse_block_1] processed.\r\n",
      "2020-08-26 14:38:30.989685: I core/tools/emb_converter.cc:82] file [/tmp/model/2020-05-11/sparse_table//1/rank_0/sparse_block_2] processed.\r\n",
      "2020-08-26 14:38:30.989868: I core/tools/emb_converter.cc:82] file [/tmp/model/2020-05-11/sparse_table//1/rank_0/sparse_block_3] processed.\r\n",
      "2020-08-26 14:38:30.990053: I core/tools/emb_converter.cc:82] file [/tmp/model/2020-05-11/sparse_table//1/rank_0/sparse_block_4] processed.\r\n",
      "2020-08-26 14:38:30.990285: I core/tools/emb_converter.cc:82] file [/tmp/model/2020-05-11/sparse_table//1/rank_0/sparse_block_5] processed.\r\n",
      "2020-08-26 14:38:30.990465: I core/tools/emb_converter.cc:82] file [/tmp/model/2020-05-11/sparse_table//1/rank_0/sparse_block_6] processed.\r\n",
      "2020-08-26 14:38:30.990663: I core/tools/emb_converter.cc:82] file [/tmp/model/2020-05-11/sparse_table//1/rank_0/sparse_block_7] processed.\r\n"
     ]
    }
   ],
   "source": [
    "!/da1/s/yaolei/tensornet/bazel-bin/core/emb_converter /tmp/model/2020-05-11/sparse_table/ /tmp/model/sparse_text AdaGrad"
   ]
  },
  {
   "cell_type": "markdown",
   "metadata": {},
   "source": [
    "- 生成数据格式\n",
    "  \n",
    "  第一列为feature sign， 第二列为table_handle，后面的列为多维的embedding。"
   ]
  },
  {
   "cell_type": "code",
   "execution_count": 29,
   "metadata": {},
   "outputs": [
    {
     "name": "stdout",
     "output_type": "stream",
     "text": [
      "664727995372584705\t1\t-0.025697\t0.080912\t-0.002423\t0.013580\t0.053367\t0.017855\t0.013988\t0.002631\r\n",
      "8658432068820613603\t1\t-0.004544\t-0.012241\t0.019810\t-0.034679\t0.028699\t-0.020262\t-0.063680\t0.016947\r\n",
      "7797335242211775142\t1\t0.057663\t0.004491\t-0.021192\t0.034264\t0.061628\t-0.026370\t-0.016498\t0.027886\r\n",
      "7391248522983175429\t1\t-0.007909\t0.057782\t0.018526\t-0.008813\t-0.063427\t-0.048736\t-0.022533\t-0.024117\r\n",
      "6443217198606683085\t1\t0.032003\t-0.050358\t0.021636\t0.016701\t-0.060406\t-0.053007\t-0.013675\t0.048079\r\n",
      "5194023452875547590\t1\t0.023324\t0.003480\t-0.009819\t-0.042841\t0.006762\t0.005401\t0.010376\t-0.016773\r\n",
      "5178955677997930731\t1\t-0.073632\t0.021773\t-0.019133\t-0.028759\t0.002195\t0.024881\t0.065171\t-0.002595\r\n",
      "5255158498343325654\t1\t-0.056173\t-0.009087\t0.043519\t-0.054567\t0.035521\t-0.046024\t0.002395\t-0.036604\r\n",
      "2951414286115464033\t1\t-0.072051\t0.037498\t-0.018196\t-0.025876\t0.045073\t-0.007181\t0.042396\t0.061262\r\n",
      "336571397910699740\t1\t0.043650\t-0.019351\t0.013762\t0.023796\t-0.051640\t0.009684\t0.076476\t-0.017673\r\n"
     ]
    }
   ],
   "source": [
    "!tail -n 10 /tmp/model/sparse_text"
   ]
  },
  {
   "cell_type": "markdown",
   "metadata": {},
   "source": [
    "### 2. 相同feature embedding 合并\n",
    "- 训练时，每一个```tn.layers.EmbeddingFeatures```都有独立的embedding，在wide&deep的demo中，每个feature会有两个不同的embedding，一个1维，一个8维，为了减少线上embedding lookup次数，下面脚本将相同feature的embedding按照table_handle递增顺序合并为一行"
   ]
  },
  {
   "cell_type": "code",
   "execution_count": 27,
   "metadata": {},
   "outputs": [],
   "source": [
    "!cd /da1/s/yaolei/tensornet/examples/online_serving/ && \\\n",
    " sort -nk1,2  /tmp/model/sparse_text | python emb_converter_reduce.py > /tmp/model/sparse_merged.txt"
   ]
  },
  {
   "cell_type": "markdown",
   "metadata": {},
   "source": [
    "- 生成数据格式\n",
    "\n",
    "  如下，第一列为feature sign，后面为9维度的embedding"
   ]
  },
  {
   "cell_type": "code",
   "execution_count": 30,
   "metadata": {},
   "outputs": [
    {
     "name": "stdout",
     "output_type": "stream",
     "text": [
      "8621754627708332486\t-0.020929\t0.017268\t0.011393\t0.050349\t-0.045138\t0.013934\t0.034815\t-0.108272\t-0.003104\r\n",
      "8658432068820613603\t-0.090976\t-0.004544\t-0.012241\t0.019810\t-0.034679\t0.028699\t-0.020262\t-0.063680\t0.016947\r\n",
      "8739948393308632152\t0.012600\t-0.045059\t0.003665\t-0.001669\t0.036731\t0.047757\t-0.003013\t-0.010163\t0.045259\r\n",
      "8828880780756261625\t0.073003\t0.055755\t0.022523\t0.009402\t-0.010848\t0.035887\t-0.070689\t0.019089\t0.025007\r\n",
      "8895687830835085643\t-0.203445\t-0.016662\t-0.013364\t-0.022973\t0.016830\t-0.088185\t0.002384\t-0.011923\t0.007559\r\n",
      "8958114852440850551\t-0.135199\t-0.054110\t-0.037400\t-0.025072\t0.049798\t0.000475\t-0.021564\t-0.034338\t-0.011842\r\n",
      "8993353759708287499\t0.017241\t-0.039746\t-0.001939\t-0.055951\t-0.021930\t-0.012993\t0.031334\t-0.017015\t-0.010426\r\n",
      "9036706772189321662\t0.067262\t-0.009823\t0.073938\t-0.032093\t0.029376\t-0.037094\t-0.016799\t0.003812\t-0.027969\r\n",
      "9072674328386204684\t-0.013450\t0.011828\t-0.005519\t-0.043596\t0.010915\t-0.041561\t0.050177\t-0.066181\t-0.075772\r\n",
      "9116662905595839563\t0.032742\t0.005541\t-0.001503\t-0.034738\t0.012870\t0.033573\t0.006741\t-0.028026\t-0.025025\r\n"
     ]
    }
   ],
   "source": [
    "!tail -n 10 /tmp/model/sparse_merged.txt"
   ]
  },
  {
   "cell_type": "markdown",
   "metadata": {},
   "source": [
    "此demo只为演示功能，生产环境可以使用MapReduce来替代`sort -nk1,2`。"
   ]
  }
 ],
 "metadata": {
  "kernelspec": {
   "display_name": "Python 3",
   "language": "python",
   "name": "python3"
  },
  "language_info": {
   "codemirror_mode": {
    "name": "ipython",
    "version": 3
   },
   "file_extension": ".py",
   "mimetype": "text/x-python",
   "name": "python",
   "nbconvert_exporter": "python",
   "pygments_lexer": "ipython3",
   "version": "3.7.6"
  }
 },
 "nbformat": 4,
 "nbformat_minor": 4
}
